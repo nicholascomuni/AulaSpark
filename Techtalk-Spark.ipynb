{
 "cells": [
  {
   "cell_type": "code",
   "execution_count": 1,
   "metadata": {
    "colab": {
     "base_uri": "https://localhost:8080/"
    },
    "id": "9e45VnaJLE28",
    "outputId": "90e2c6e2-572b-424e-9808-18af2ac9a0d8"
   },
   "outputs": [
    {
     "name": "stdout",
     "output_type": "stream",
     "text": [
      "\r",
      "0% [Working]\r",
      "            \r",
      "Get:1 https://cloud.r-project.org/bin/linux/ubuntu focal-cran40/ InRelease [3,622 B]\n",
      "\r",
      "0% [Connecting to archive.ubuntu.com] [Connecting to security.ubuntu.com (185.1\r",
      "0% [Connecting to archive.ubuntu.com] [Connecting to security.ubuntu.com (185.1\r",
      "                                                                               \r",
      "Ign:2 https://developer.download.nvidia.com/compute/machine-learning/repos/ubuntu2004/x86_64  InRelease\n",
      "\r",
      "0% [Connecting to archive.ubuntu.com (91.189.91.38)] [Waiting for headers] [Wai\r",
      "                                                                               \r",
      "Get:3 https://developer.download.nvidia.com/compute/cuda/repos/ubuntu2004/x86_64  InRelease [1,581 B]\n",
      "Hit:4 https://developer.download.nvidia.com/compute/machine-learning/repos/ubuntu2004/x86_64  Release\n",
      "Hit:5 http://archive.ubuntu.com/ubuntu focal InRelease\n",
      "Get:6 http://security.ubuntu.com/ubuntu focal-security InRelease [114 kB]\n",
      "Get:7 http://archive.ubuntu.com/ubuntu focal-updates InRelease [114 kB]\n",
      "Hit:8 http://ppa.launchpad.net/c2d4u.team/c2d4u4.0+/ubuntu focal InRelease\n",
      "Get:9 http://archive.ubuntu.com/ubuntu focal-backports InRelease [108 kB]\n",
      "Get:10 https://developer.download.nvidia.com/compute/cuda/repos/ubuntu2004/x86_64  Packages [908 kB]\n",
      "Hit:11 http://ppa.launchpad.net/cran/libgit2/ubuntu focal InRelease\n",
      "Hit:13 http://ppa.launchpad.net/deadsnakes/ppa/ubuntu focal InRelease\n",
      "Hit:14 http://ppa.launchpad.net/graphics-drivers/ppa/ubuntu focal InRelease\n",
      "Hit:15 http://ppa.launchpad.net/ubuntugis/ppa/ubuntu focal InRelease\n",
      "Get:16 http://archive.ubuntu.com/ubuntu focal-updates/universe amd64 Packages [1,311 kB]\n",
      "Get:17 http://archive.ubuntu.com/ubuntu focal-updates/main amd64 Packages [3,014 kB]\n",
      "Get:18 http://security.ubuntu.com/ubuntu focal-security/universe amd64 Packages [1,015 kB]\n",
      "Fetched 6,590 kB in 3s (1,910 kB/s)\n",
      "Reading package lists... Done\n"
     ]
    }
   ],
   "source": [
    "!apt-get update\n",
    "!apt-get install openjdk-8-jdk-headless -qq > /dev/null\n",
    "!wget -q https://archive.apache.org/dist/spark/spark-3.0.1/spark-3.0.1-bin-hadoop2.7.tgz\n",
    "!tar xf spark-3.0.1-bin-hadoop2.7.tgz\n",
    "!pip install -q findspark"
   ]
  },
  {
   "cell_type": "code",
   "execution_count": null,
   "metadata": {
    "id": "qzgVcvJ8Q_lm"
   },
   "outputs": [],
   "source": [
    "!pip install --upgrade --no-cache-dir gdown\n",
    "!gdown https://drive.google.com/u/0/uc?id=1kCXnIeoPT6p9kS_ANJ0mmpxlfDwK1yio&export=download\n",
    "!unzip DatasetToCompleteTheSixSparkExercises.zip"
   ]
  },
  {
   "cell_type": "code",
   "execution_count": 38,
   "metadata": {
    "id": "_5Y8wGkzLaFV"
   },
   "outputs": [],
   "source": [
    "import os\n",
    "os.environ[\"JAVA_HOME\"] = \"/usr/lib/jvm/java-8-openjdk-amd64\"\n",
    "os.environ[\"SPARK_HOME\"] = \"/content/spark-3.0.1-bin-hadoop2.7\"\n",
    "\n",
    "import findspark\n",
    "findspark.init()\n",
    "\n",
    "from pyspark.sql import SparkSession\n",
    "from pyspark import SparkContext, SparkConf\n",
    "\n",
    "spark = SparkSession.builder.config('spark.ui.port', '4050')\\\n",
    "                            .getOrCreate()"
   ]
  },
  {
   "cell_type": "code",
   "execution_count": 4,
   "metadata": {
    "colab": {
     "base_uri": "https://localhost:8080/"
    },
    "id": "8Vn2s4KU7nAe",
    "outputId": "afccb8a7-86be-4a2c-aabe-659096d27266"
   },
   "outputs": [
    {
     "name": "stdout",
     "output_type": "stream",
     "text": [
      "--2023-03-12 21:39:54--  https://bin.equinox.io/c/4VmDzA7iaHb/ngrok-stable-linux-amd64.zip\n",
      "Resolving bin.equinox.io (bin.equinox.io)... 52.202.168.65, 54.161.241.46, 18.205.222.128, ...\n",
      "Connecting to bin.equinox.io (bin.equinox.io)|52.202.168.65|:443... connected.\n",
      "HTTP request sent, awaiting response... 200 OK\n",
      "Length: 13921656 (13M) [application/octet-stream]\n",
      "Saving to: ‘ngrok-stable-linux-amd64.zip’\n",
      "\n",
      "ngrok-stable-linux- 100%[===================>]  13.28M  3.38MB/s    in 5.1s    \n",
      "\n",
      "2023-03-12 21:40:00 (2.60 MB/s) - ‘ngrok-stable-linux-amd64.zip’ saved [13921656/13921656]\n",
      "\n",
      "Archive:  ngrok-stable-linux-amd64.zip\n",
      "  inflating: ngrok                   \n"
     ]
    }
   ],
   "source": [
    "!wget https://bin.equinox.io/c/4VmDzA7iaHb/ngrok-stable-linux-amd64.zip\n",
    "!unzip ngrok-stable-linux-amd64.zip"
   ]
  },
  {
   "cell_type": "code",
   "execution_count": 5,
   "metadata": {
    "colab": {
     "base_uri": "https://localhost:8080/"
    },
    "id": "NqZjA7yVCbKt",
    "outputId": "d5e07709-b840-4e6e-ed6d-c468d5df5aba"
   },
   "outputs": [
    {
     "name": "stdout",
     "output_type": "stream",
     "text": [
      "Authtoken saved to configuration file: /root/.ngrok2/ngrok.yml\n"
     ]
    }
   ],
   "source": [
    "!./ngrok authtoken #Seu token"
   ]
  },
  {
   "cell_type": "markdown",
   "metadata": {
    "id": "SX7Ws_9rh_7H"
   },
   "source": []
  },
  {
   "cell_type": "code",
   "execution_count": 6,
   "metadata": {
    "id": "fZZr3gKF__3f"
   },
   "outputs": [],
   "source": [
    "get_ipython().system_raw('./ngrok http 4050 &')\n",
    "#Aguarde 10s"
   ]
  },
  {
   "cell_type": "code",
   "execution_count": 7,
   "metadata": {
    "colab": {
     "base_uri": "https://localhost:8080/"
    },
    "id": "A8cBjsp2SCCz",
    "outputId": "79fa21e5-460e-469c-f9c7-c62076966d6e"
   },
   "outputs": [
    {
     "name": "stdout",
     "output_type": "stream",
     "text": [
      "{\"tunnels\":[{\"name\":\"command_line\",\"uri\":\"/api/tunnels/command_line\",\"public_url\":\"https://081c-35-199-145-12.ngrok.io\",\"proto\":\"https\",\"config\":{\"addr\":\"http://localhost:4050\",\"inspect\":true},\"metrics\":{\"conns\":{\"count\":0,\"gauge\":0,\"rate1\":0,\"rate5\":0,\"rate15\":0,\"p50\":0,\"p90\":0,\"p95\":0,\"p99\":0},\"http\":{\"count\":0,\"rate1\":0,\"rate5\":0,\"rate15\":0,\"p50\":0,\"p90\":0,\"p95\":0,\"p99\":0}}},{\"name\":\"command_line (http)\",\"uri\":\"/api/tunnels/command_line%20%28http%29\",\"public_url\":\"http://081c-35-199-145-12.ngrok.io\",\"proto\":\"http\",\"config\":{\"addr\":\"http://localhost:4050\",\"inspect\":true},\"metrics\":{\"conns\":{\"count\":0,\"gauge\":0,\"rate1\":0,\"rate5\":0,\"rate15\":0,\"p50\":0,\"p90\":0,\"p95\":0,\"p99\":0},\"http\":{\"count\":0,\"rate1\":0,\"rate5\":0,\"rate15\":0,\"p50\":0,\"p90\":0,\"p95\":0,\"p99\":0}}}],\"uri\":\"/api/tunnels\"}\n"
     ]
    }
   ],
   "source": [
    "!curl -s http://localhost:4040/api/tunnels"
   ]
  },
  {
   "cell_type": "code",
   "execution_count": 39,
   "metadata": {
    "colab": {
     "base_uri": "https://localhost:8080/"
    },
    "id": "p7WjR-ROFgAC",
    "outputId": "9268dc18-0083-4d61-bb98-93a778cf9c7b"
   },
   "outputs": [
    {
     "name": "stdout",
     "output_type": "stream",
     "text": [
      "+--------+----------+---------+----------+---------------+--------------------+\n",
      "|order_id|product_id|seller_id|      date|num_pieces_sold|       bill_raw_text|\n",
      "+--------+----------+---------+----------+---------------+--------------------+\n",
      "|       1|         0|        0|2020-07-10|             26|kyeibuumwlyhuwksx...|\n",
      "|       2|         0|        0|2020-07-08|             13|jfyuoyfkeyqkckwbu...|\n",
      "|       3|         0|        0|2020-07-05|             38|uyjihlzhzcswxcccx...|\n",
      "|       4|         0|        0|2020-07-05|             56|umnxvoqbdzpbwjqmz...|\n",
      "|       5|         0|        0|2020-07-05|             11|zmqexmaawmvdpqhih...|\n",
      "+--------+----------+---------+----------+---------------+--------------------+\n",
      "only showing top 5 rows\n",
      "\n",
      "+---------+-----------+------------+\n",
      "|seller_id|seller_name|daily_target|\n",
      "+---------+-----------+------------+\n",
      "|        0|   seller_0|     2500000|\n",
      "|        1|   seller_1|      257237|\n",
      "|        2|   seller_2|      754188|\n",
      "|        3|   seller_3|      310462|\n",
      "|        4|   seller_4|     1532808|\n",
      "+---------+-----------+------------+\n",
      "only showing top 5 rows\n",
      "\n",
      "+----------+------------+-----+\n",
      "|product_id|product_name|price|\n",
      "+----------+------------+-----+\n",
      "|         0|   product_0|   22|\n",
      "|         1|   product_1|   30|\n",
      "|         2|   product_2|   91|\n",
      "|         3|   product_3|   37|\n",
      "|         4|   product_4|  145|\n",
      "+----------+------------+-----+\n",
      "only showing top 5 rows\n",
      "\n"
     ]
    }
   ],
   "source": [
    "sales_dtf = spark.read.parquet(\"sales_parquet\")\n",
    "products_dtf = spark.read.parquet(\"products_parquet\")\n",
    "sellers_dtf = spark.read.parquet(\"sellers_parquet\")\n",
    "\n",
    "sales_dtf.show(5)\n",
    "sellers_dtf.show(5)\n",
    "products_dtf.show(5)"
   ]
  },
  {
   "cell_type": "code",
   "execution_count": 40,
   "metadata": {
    "colab": {
     "base_uri": "https://localhost:8080/"
    },
    "id": "EySwLik94CjU",
    "outputId": "3c7749ff-1367-4224-ecd3-4812e9eea016"
   },
   "outputs": [
    {
     "data": {
      "text/plain": [
       "20000040"
      ]
     },
     "execution_count": 40,
     "metadata": {},
     "output_type": "execute_result"
    }
   ],
   "source": [
    "sales_dtf = sales_dtf.cache()\n",
    "sales_dtf.count()"
   ]
  },
  {
   "cell_type": "code",
   "execution_count": 41,
   "metadata": {
    "colab": {
     "base_uri": "https://localhost:8080/"
    },
    "id": "aE5jqGmRyS4L",
    "outputId": "3512e993-a4fe-43fc-85ca-ea1ec8a4bc35"
   },
   "outputs": [
    {
     "data": {
      "text/plain": [
       "20000040"
      ]
     },
     "execution_count": 41,
     "metadata": {},
     "output_type": "execute_result"
    }
   ],
   "source": [
    "sales_dtf.count()"
   ]
  },
  {
   "cell_type": "code",
   "execution_count": 22,
   "metadata": {
    "colab": {
     "base_uri": "https://localhost:8080/"
    },
    "id": "jhNB2oFMGWLR",
    "outputId": "75fb27b5-aa13-4c90-e752-d577bb585b10"
   },
   "outputs": [
    {
     "data": {
      "text/plain": [
       "83"
      ]
     },
     "execution_count": 22,
     "metadata": {},
     "output_type": "execute_result"
    }
   ],
   "source": [
    "sales_dtf.rdd.getNumPartitions()"
   ]
  },
  {
   "cell_type": "code",
   "execution_count": 23,
   "metadata": {
    "id": "uFywP83klFQc"
   },
   "outputs": [],
   "source": [
    "joined = sales_dtf.join(products_dtf,on=\"product_id\")"
   ]
  },
  {
   "cell_type": "code",
   "execution_count": 24,
   "metadata": {
    "colab": {
     "base_uri": "https://localhost:8080/"
    },
    "id": "HFlE5h0plQCj",
    "outputId": "40a32ae8-183c-417a-8715-aa219090c06d"
   },
   "outputs": [
    {
     "name": "stdout",
     "output_type": "stream",
     "text": [
      "+----------+--------+---------+----------+---------------+--------------------+----------------+-----+\n",
      "|product_id|order_id|seller_id|      date|num_pieces_sold|       bill_raw_text|    product_name|price|\n",
      "+----------+--------+---------+----------+---------------+--------------------+----------------+-----+\n",
      "|  10005243|12478308|        6|2020-07-04|             98|qfvpgiscflyjxphcq...|product_10005243|   44|\n",
      "|  10023464| 8996776|        9|2020-07-03|             59|jjbyqkzcimBfoehbv...|product_10023464|   19|\n",
      "|  10050363|10476976|        6|2020-07-03|             18|xqhlvkpxtzrfdadry...|product_10050363|   98|\n",
      "|  10089524| 5977582|        2|2020-07-01|             53|jchvhzbeaicqitpvx...|product_10089524|  100|\n",
      "|  10122266| 1482892|        2|2020-07-07|             25|kezhpglnqigaqwrss...|product_10122266|   89|\n",
      "|  10134574| 2987749|        3|2020-07-03|             28|bmtlxvobfmerqlckf...|product_10134574|  138|\n",
      "|  10150439|15982399|        4|2020-07-01|             72|rvgiffufcxceotpdn...|product_10150439|   71|\n",
      "|  10158822|12494868|        9|2020-07-09|             86|pzrsootkmszwuzpsi...|product_10158822|   35|\n",
      "|  10160884|18485793|        7|2020-07-01|             89|goZelczdeypjghxta...|product_10160884|   52|\n",
      "|  10172594| 2499725|        2|2020-07-03|             60|gndkqyfadrbiaasna...|product_10172594|   81|\n",
      "|  10175294| 2491769|        7|2020-07-09|             29|owrjfdkvctlnpgwcn...|product_10175294|  112|\n",
      "|   1017716| 7996888|        9|2020-07-08|             82|khdtupfmrdgaayizq...| product_1017716|   66|\n",
      "|  10200802|17998848|        2|2020-07-04|             42|nwtragsmtdzwuddxb...|product_10200802|   41|\n",
      "|  10215353|10978787|        1|2020-07-06|             22|qaihdzblvkhjcnqzz...|product_10215353|   56|\n",
      "|  10218345|10985061|        4|2020-07-10|             98|ypwtputatDvrxntll...|product_10218345|  141|\n",
      "|  10220977|10484807|        5|2020-07-10|             76|hfytxferykvmdaope...|product_10220977|  132|\n",
      "|  10255853| 6990855|        7|2020-07-03|             26|nychcgnenspynymic...|product_10255853|  120|\n",
      "|  10288525|16495205|        6|2020-07-06|             63|fynucihpbitrmbcqg...|product_10288525|  132|\n",
      "|  10304712| 1985267|        9|2020-07-05|             48|pjlfowgkhrncuboha...|product_10304712|   24|\n",
      "|  10324080|10988195|        6|2020-07-04|              5|ypdylfnxjvaphduiy...|product_10324080|  130|\n",
      "+----------+--------+---------+----------+---------------+--------------------+----------------+-----+\n",
      "only showing top 20 rows\n",
      "\n"
     ]
    }
   ],
   "source": [
    "joined.show()"
   ]
  },
  {
   "cell_type": "code",
   "execution_count": 42,
   "metadata": {
    "colab": {
     "base_uri": "https://localhost:8080/"
    },
    "id": "hxpeM0I54xxX",
    "outputId": "3586ac0f-b74e-45f2-9f5c-32cf8aac8e3d"
   },
   "outputs": [
    {
     "name": "stdout",
     "output_type": "stream",
     "text": [
      "== Physical Plan ==\n",
      "InMemoryTableScan [order_id#1496, product_id#1497, seller_id#1498, date#1499, num_pieces_sold#1500, bill_raw_text#1501]\n",
      "   +- InMemoryRelation [order_id#1496, product_id#1497, seller_id#1498, date#1499, num_pieces_sold#1500, bill_raw_text#1501], StorageLevel(disk, memory, deserialized, 1 replicas)\n",
      "         +- *(1) ColumnarToRow\n",
      "            +- FileScan parquet [order_id#1496,product_id#1497,seller_id#1498,date#1499,num_pieces_sold#1500,bill_raw_text#1501] Batched: true, DataFilters: [], Format: Parquet, Location: InMemoryFileIndex[file:/content/sales_parquet], PartitionFilters: [], PushedFilters: [], ReadSchema: struct<order_id:string,product_id:string,seller_id:string,date:string,num_pieces_sold:string,bill...\n",
      "\n",
      "\n"
     ]
    }
   ],
   "source": [
    "sales_dtf.explain()"
   ]
  },
  {
   "cell_type": "code",
   "execution_count": 45,
   "metadata": {
    "colab": {
     "base_uri": "https://localhost:8080/"
    },
    "id": "yWxy1G4uKIv_",
    "outputId": "0c7e94bc-6d4f-4344-d883-4cdafdff9742"
   },
   "outputs": [
    {
     "name": "stdout",
     "output_type": "stream",
     "text": [
      "== Physical Plan ==\n",
      "*(2) HashAggregate(keys=[seller_id#1498], functions=[count(1)])\n",
      "+- Exchange hashpartitioning(seller_id#1498, 200), true, [id=#479]\n",
      "   +- *(1) HashAggregate(keys=[seller_id#1498], functions=[partial_count(1)])\n",
      "      +- InMemoryTableScan [seller_id#1498]\n",
      "            +- InMemoryRelation [order_id#1496, product_id#1497, seller_id#1498, date#1499, num_pieces_sold#1500, bill_raw_text#1501], StorageLevel(disk, memory, deserialized, 1 replicas)\n",
      "                  +- *(1) ColumnarToRow\n",
      "                     +- FileScan parquet [order_id#1496,product_id#1497,seller_id#1498,date#1499,num_pieces_sold#1500,bill_raw_text#1501] Batched: true, DataFilters: [], Format: Parquet, Location: InMemoryFileIndex[file:/content/sales_parquet], PartitionFilters: [], PushedFilters: [], ReadSchema: struct<order_id:string,product_id:string,seller_id:string,date:string,num_pieces_sold:string,bill...\n",
      "\n",
      "\n"
     ]
    }
   ],
   "source": [
    "sales_dtf.groupby(\"seller_id\").count().explain()"
   ]
  },
  {
   "cell_type": "code",
   "execution_count": null,
   "metadata": {
    "id": "0EzRDyjVKO3v"
   },
   "outputs": [],
   "source": []
  }
 ],
 "metadata": {
  "colab": {
   "provenance": []
  },
  "kernelspec": {
   "display_name": "Python 3 (ipykernel)",
   "language": "python",
   "name": "python3"
  },
  "language_info": {
   "codemirror_mode": {
    "name": "ipython",
    "version": 3
   },
   "file_extension": ".py",
   "mimetype": "text/x-python",
   "name": "python",
   "nbconvert_exporter": "python",
   "pygments_lexer": "ipython3",
   "version": "3.10.5"
  }
 },
 "nbformat": 4,
 "nbformat_minor": 1
}
